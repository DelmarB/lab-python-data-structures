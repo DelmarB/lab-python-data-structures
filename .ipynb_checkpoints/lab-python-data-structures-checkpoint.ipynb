{
 "cells": [
  {
   "cell_type": "markdown",
   "metadata": {
    "tags": []
   },
   "source": [
    "# Lab | Data Structures "
   ]
  },
  {
   "cell_type": "markdown",
   "metadata": {},
   "source": [
    "## Exercise: Managing Customer Orders\n",
    "\n",
    "As part of a business venture, you are starting an online store that sells various products. To ensure smooth operations, you need to develop a program that manages customer orders and inventory.\n",
    "\n",
    "Follow the steps below to complete the exercise:\n",
    "\n",
    "1. Define a list called `products` that contains the following items: \"t-shirt\", \"mug\", \"hat\", \"book\", \"keychain\".\n",
    "\n",
    "2. Create an empty dictionary called `inventory`.\n",
    "\n",
    "3. Ask the user to input the quantity of each product available in the inventory. Use the product names from the `products` list as keys in the `inventory` dictionary and assign the respective quantities as values.\n",
    "\n",
    "4. Create an empty set called `customer_orders`.\n",
    "\n",
    "5. Ask the user to input the name of three products that a customer wants to order (from those in the products list, meaning three products out of \"t-shirt\", \"mug\", \"hat\", \"book\" or \"keychain\". Add each product name to the `customer_orders` set.\n",
    "\n",
    "6. Print the products in the `customer_orders` set.\n",
    "\n",
    "7. Calculate the following order statistics:\n",
    "   - Total Products Ordered: The total number of products in the `customer_orders` set.\n",
    "   - Percentage of Products Ordered: The percentage of products ordered compared to the total available products.\n",
    "   \n",
    "   Store these statistics in a tuple called `order_status`.\n",
    "\n",
    "8. Print the order statistics using the following format:\n",
    "   ```\n",
    "   Order Statistics:\n",
    "   Total Products Ordered: <total_products_ordered>\n",
    "   Percentage of Products Ordered: <percentage_ordered>% \n",
    "   ```\n",
    "\n",
    "9. Update the inventory by subtracting 1 from the quantity of each product. Modify the `inventory` dictionary accordingly.\n",
    "\n",
    "10. Print the updated inventory, displaying the quantity of each product on separate lines.\n",
    "\n",
    "Solve the exercise by implementing the steps using the Python concepts of lists, dictionaries, sets, and basic input/output operations. "
   ]
  },
  {
   "cell_type": "code",
   "execution_count": 2,
   "metadata": {},
   "outputs": [],
   "source": [
    "#1\n",
    "products = [\"t-shirt\", \"mug\", \"hat\", \"book\", \"keychain\"]\n"
   ]
  },
  {
   "cell_type": "code",
   "execution_count": 3,
   "metadata": {},
   "outputs": [],
   "source": [
    "#2\n",
    "inventory = {}"
   ]
  },
  {
   "cell_type": "code",
   "execution_count": 4,
   "metadata": {},
   "outputs": [
    {
     "name": "stdin",
     "output_type": "stream",
     "text": [
      "Add an amount for t-shirt 5\n",
      "Add an amount for mug 10\n",
      "Add an amount for hat 15\n",
      "Add an amount for book 20\n",
      "Add an amount for keychain 25\n"
     ]
    }
   ],
   "source": [
    "#3\n",
    "for prod in products:\n",
    "    #print(prod)\n",
    "    amount = int(input(f\"Add an amount for {prod}\"))\n",
    "    inventory[prod] = amount\n"
   ]
  },
  {
   "cell_type": "code",
   "execution_count": 5,
   "metadata": {},
   "outputs": [
    {
     "name": "stdin",
     "output_type": "stream",
     "text": [
      "Add a product (t-shirt, mug, hat, book or keychain) that a customer wants to order:  mug\n"
     ]
    },
    {
     "name": "stdout",
     "output_type": "stream",
     "text": [
      "You have 2 more entries to go\n"
     ]
    },
    {
     "name": "stdin",
     "output_type": "stream",
     "text": [
      "Add a product (t-shirt, mug, hat, book or keychain) that a customer wants to order:  hat\n"
     ]
    },
    {
     "name": "stdout",
     "output_type": "stream",
     "text": [
      "You have 1 more entries to go\n"
     ]
    },
    {
     "name": "stdin",
     "output_type": "stream",
     "text": [
      "Add a product (t-shirt, mug, hat, book or keychain) that a customer wants to order:  book\n"
     ]
    },
    {
     "name": "stdout",
     "output_type": "stream",
     "text": [
      "You have 0 more entries to go\n",
      "customer_order: {'mug', 'hat', 'book'}\n"
     ]
    }
   ],
   "source": [
    "## 4\n",
    "customer_orders=set()\n",
    "\n",
    "# 5\n",
    "count = 0\n",
    "\n",
    "while count < 3:\n",
    "    orders = input(\"Add a product (t-shirt, mug, hat, book or keychain) that a customer wants to order: \")\n",
    "    customer_orders.add(orders)\n",
    "    count += 1\n",
    "    left = 3 - count\n",
    "    print(f\"You have {left} more entries to go\")\n",
    "\n",
    "count = 0\n",
    "\n",
    "#6\n",
    "print(f\"customer_order: {customer_orders}\")\n"
   ]
  },
  {
   "cell_type": "code",
   "execution_count": 11,
   "metadata": {
    "scrolled": true
   },
   "outputs": [],
   "source": [
    "#7\n",
    "\n",
    "Total_Products_ordered = len(customer_orders)\n",
    "\n",
    "Percentage_of_Products_Ordered = (Total_Products_ordered / 5) * 100\n",
    "\n",
    "order_status = (Total_Products_ordered, Percentage_of_Products_Ordered)\n"
   ]
  },
  {
   "cell_type": "code",
   "execution_count": 7,
   "metadata": {},
   "outputs": [
    {
     "name": "stdout",
     "output_type": "stream",
     "text": [
      "Orders Statistics:\n",
      "Total Products Ordered: 3\n",
      "Percentage of Products Ordered: 60.0 %\n"
     ]
    }
   ],
   "source": [
    "#8\n",
    "print(\"Orders Statistics:\")\n",
    "print(f\"Total Products Ordered: {order_status[0]}\")\n",
    "print(f\"Percentage of Products Ordered: {order_status[1]} %\")"
   ]
  },
  {
   "cell_type": "code",
   "execution_count": 8,
   "metadata": {},
   "outputs": [
    {
     "name": "stdout",
     "output_type": "stream",
     "text": [
      "{'t-shirt': 5, 'mug': 9, 'hat': 14, 'book': 19, 'keychain': 25}\n"
     ]
    }
   ],
   "source": [
    "#9 \n",
    "for order_prod in customer_orders:\n",
    "    inventory[order_prod] -= 1\n",
    "    \n",
    "print(inventory)\n"
   ]
  },
  {
   "cell_type": "code",
   "execution_count": 10,
   "metadata": {},
   "outputs": [
    {
     "name": "stdout",
     "output_type": "stream",
     "text": [
      "t-shirt: 5\n",
      "mug: 9\n",
      "hat: 14\n",
      "book: 19\n",
      "keychain: 25\n"
     ]
    }
   ],
   "source": [
    "#10\n",
    "for key, value in inventory.items():\n",
    "    print(f\"{key}: {value}\")"
   ]
  }
 ],
 "metadata": {
  "kernelspec": {
   "display_name": "Python 3 (ipykernel)",
   "language": "python",
   "name": "python3"
  },
  "language_info": {
   "codemirror_mode": {
    "name": "ipython",
    "version": 3
   },
   "file_extension": ".py",
   "mimetype": "text/x-python",
   "name": "python",
   "nbconvert_exporter": "python",
   "pygments_lexer": "ipython3",
   "version": "3.12.7"
  }
 },
 "nbformat": 4,
 "nbformat_minor": 4
}
